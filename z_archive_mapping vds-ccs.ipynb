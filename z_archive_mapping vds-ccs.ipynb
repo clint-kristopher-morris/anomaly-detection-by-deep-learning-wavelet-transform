{
 "cells": [
  {
   "cell_type": "code",
   "execution_count": 1,
   "metadata": {},
   "outputs": [],
   "source": [
    "map_name = 'k_near_map'\n",
    "# --- Generate Map --- #\n",
    "import folium\n",
    "\n",
    "center = [33.748997, -84.387985]\n",
    "m = folium.Map(center, zoom_start=10)\n",
    "m.save(f'./outputs/maps/{map_name}.html')\n",
    "\n",
    "m = folium.Map(\n",
    "    location=[33.748997, -84.387985],\n",
    "    tiles='Stamen Toner',\n",
    "    zoom_start=10\n",
    ")"
   ]
  },
  {
   "cell_type": "code",
   "execution_count": 2,
   "metadata": {},
   "outputs": [],
   "source": [
    "import pandas as pd\n",
    "import geopandas\n",
    "from shapely.geometry import shape,mapping, Point, Polygon, MultiPolygon\n",
    "import matplotlib.pyplot as plt\n",
    "# import geoplot\n",
    "from project_tools import load_obj, interact, save_obj\n",
    "\n",
    "def CreatePointMap(df, Point_name):\n",
    "    # cleaning\n",
    "    df[['Latitude','Longitude']] = df[['Latitude','Longitude']].apply(pd.to_numeric, errors='coerce')\n",
    "    # --- Converts df type to GeoDataFrame --- #\n",
    "    pointDF = df\n",
    "    df['coordinates'] = df[['Latitude', 'Longitude']].values.tolist()\n",
    "    df['coordinates'] = df['coordinates'].apply(Point)\n",
    "    df = geopandas.GeoDataFrame(df, geometry='coordinates')\n",
    "    df = df.dropna(subset=[Point_name,'Latitude', 'Longitude','coordinates'])\n",
    "    return df\n",
    "\n",
    "def GeneratePointMap(Names , Latitudes, Longitudes, color, radius):\n",
    "    for i, Name in enumerate(Names.iterrows()):\n",
    "        folium.CircleMarker(\n",
    "            location=[Latitudes.iloc[i,0],Longitudes.iloc[i,0]],\n",
    "            tooltip = str(Names.iloc[i,0]),\n",
    "            radius= radius,\n",
    "            popup=str(Names.iloc[i,0]),\n",
    "            color=color,\n",
    "            fill=True,\n",
    "            fill_color=color \n",
    "        ).add_to(m)\n",
    "        \n",
    "def covertname(x):\n",
    "    try:\n",
    "        x=inv_matcher[x]\n",
    "    except KeyError:\n",
    "        try:\n",
    "            x=map_[x]\n",
    "        except KeyError:\n",
    "            x=0\n",
    "    return int(x)\n",
    "\n",
    "def plotfromdf(df, name, color='blue', size=3):\n",
    "    df = CreatePointMap(df, name)\n",
    "    GeneratePointMap(df.loc[:,[name]], df.loc[:,['Latitude']],df.loc[:,['Longitude']], color, radius=size)"
   ]
  },
  {
   "cell_type": "code",
   "execution_count": 3,
   "metadata": {},
   "outputs": [],
   "source": [
    "# map_ is a dict converting names to station numbers\n",
    "map_=server_info = load_obj('map')\n",
    "del map_['would_not_load']\n",
    "del map_['loaded_not_a_name']\n",
    "map_df = pd.DataFrame(map_, index=['vds_station_number']).T\n",
    "# info is a dict with extended station info eg lat long\n",
    "# mostly all formatting\n",
    "info=server_info = load_obj('info')\n",
    "info_df = pd.DataFrame(info).T\n",
    "names = pd.read_csv('support//inventory_xpath.csv',usecols = [0]).names # col names\n",
    "info_df.columns = names\n",
    "info_df['names'] = info_df.index\n",
    "info_df.index = pd.RangeIndex(len(info_df.index))\n",
    "\n",
    "vds_info = pd.read_csv('data/vds/location_data/vds_info_total.csv')\n",
    "matcher = dict(zip(list(vds_info['value']),list(vds_info['description'])))\n",
    "\n",
    "\n",
    "# remove if not GDOT\n",
    "delete = []\n",
    "onlyGDOT = True\n",
    "for key, val in matcher.items():\n",
    "    if onlyGDOT:\n",
    "        if val[0] != 'G':\n",
    "            delete.append(key)\n",
    "        else:\n",
    "            matcher[key] = val.split(':')[0]\n",
    "    else:\n",
    "        matcher[key] = val.split(':')[0]\n",
    "for key in delete:\n",
    "    del matcher[key]\n",
    "inv_matcher = {v:k for k, v in matcher.items()}\n",
    "#convert ID name to number format\n",
    "info_df['ID2'] = info_df['ID'].map(covertname)\n",
    "# only the ones being scrapped\n",
    "info_df = info_df[info_df['ID2']!=0]\n",
    "\n",
    "# --- plot all GDOT VDS stations --- #\n",
    "plotfromdf(info_df, 'ID2', color='blue', size=3)"
   ]
  },
  {
   "cell_type": "code",
   "execution_count": 4,
   "metadata": {},
   "outputs": [],
   "source": [
    "CCS_info = pd.read_csv(\"./data/vds/location_data/ccs_info.csv\")\n",
    "CCS_info['fixed_idx'] = pd.RangeIndex(len(CCS_info.index))\n",
    "\n",
    "# --- plot all CCS stations --- #\n",
    "plotfromdf(CCS_info, 'fixed_idx', color='red', size=4)"
   ]
  },
  {
   "cell_type": "code",
   "execution_count": null,
   "metadata": {},
   "outputs": [],
   "source": []
  },
  {
   "cell_type": "code",
   "execution_count": null,
   "metadata": {},
   "outputs": [],
   "source": [
    "print(len(CCS_info.name.tolist()))\n",
    "for name in CCS_info.name.tolist():\n",
    "    name = name[5:]\n",
    "    print(f'{name[:3]}-{name[3:]}')"
   ]
  },
  {
   "cell_type": "code",
   "execution_count": null,
   "metadata": {},
   "outputs": [],
   "source": [
    "# keep_vds = list(set([6968,6957,6954,3477,4465,3478,4464,15801,15802,15799,4255,3576,3577,4255,4275,3556,15886,3555,\n",
    "#        3553,3233,3234,3266,2793,3232,3266,3007,3227,3226,3271,3209,3421,4491,3420,4132,3419,3923,3417,\n",
    "#        3441,3838,6176,4473,4521,4131,4130,3918,4518,4517,3174,3173,3916,4128,4127,3915,2941,3682,3681,\n",
    "#        2942,4042,3398,4041,4045,3263,202,2980,2979,3652,3651,2999,2998,3634,3633,6296,4164,2914,2915,5597,\n",
    "#        3890,4103,4102,3889,6957,6954,6968,46723,46707,16044,16020,16019,16043,46825,4643,4642,3808,3807,3778,\n",
    "#        4674,4669,3782,2821,2822,3503,3504,3477,4465,3478,4464,15805,2809,2810,3609,2821,2822,3503,3504,\n",
    "#        15891,15892,3444,3621,2798,2797,3622,2788,6173,6170,4136,3926,6954,4643,4642,3808,4177,4328,4329,4178,\n",
    "#        4354,4210,5734,4211,13414,13415,13419,13416,13417,4317,3513,4316,13482,13508,13516,3522,3544,4287,4286,\n",
    "#        3545,3551,3550,2907,4217,2906,6505,4815,4811,2901,2900,4223,4224,2896,2895,4357,2894,4359,2893,7138,\n",
    "#        7150,7129,7185,7172,7070,7090,7079,3998,3386,3309,5882,5854,3653,3654,4028,3280,4024,4023,3285,3461,\n",
    "#        4729,3462,4728,4510,3340,2948,3920,4815,4811,4847,4839,3778,4669,3778,4669,3776,4530,3498,2826,2827,\n",
    "#        4407,2837,4406,2836,3954,3953,4058,4135,4134,3208,6184,6192,3157,6154,4905,4903,4643,4815,4811,3542,\n",
    "#        4388,4389,2855,2856,5846,5942,5846,5918,5929,5917,5942,5908,5845,4394,4393,2852,5906,5905,5839,3778,\n",
    "#        4674,3776,4530,4412,6068,6067,6070,6071,3491,2834,3490,2835,7150,7129,7138,7172,7070,4643,7090,6968,\n",
    "#        6957,6954,\n",
    "#        16073,16016,16040,16015,\n",
    "#                 ]))\n",
    "\n",
    "\n",
    "# print(len(keep_vds))\n",
    "# selected = VDS_df[VDS_df['ID2'].isin(keep_vds)]\n",
    "# print(len(selected))\n",
    "# # --- POINT PLOT VDS --- #\n",
    "# selected = CreatePointMap(selected, 'ID2')\n",
    "# # draw points on map\n",
    "# GeneratePointMap(selected.loc[:,['ID2']], selected.loc[:,['Latitude']],selected.loc[:,['Longitude']], 'green', radius=5)"
   ]
  },
  {
   "cell_type": "code",
   "execution_count": null,
   "metadata": {},
   "outputs": [],
   "source": []
  },
  {
   "cell_type": "code",
   "execution_count": 9,
   "metadata": {},
   "outputs": [
    {
     "name": "stdout",
     "output_type": "stream",
     "text": [
      "237\n",
      "236\n"
     ]
    },
    {
     "name": "stderr",
     "output_type": "stream",
     "text": [
      "/home/clint/anaconda3/lib/python3.6/site-packages/ipykernel_launcher.py:27: SettingWithCopyWarning: \n",
      "A value is trying to be set on a copy of a slice from a DataFrame.\n",
      "Try using .loc[row_indexer,col_indexer] = value instead\n",
      "\n",
      "See the caveats in the documentation: https://pandas.pydata.org/pandas-docs/stable/user_guide/indexing.html#returning-a-view-versus-a-copy\n",
      "/home/clint/anaconda3/lib/python3.6/site-packages/pandas/core/frame.py:3065: SettingWithCopyWarning: \n",
      "A value is trying to be set on a copy of a slice from a DataFrame.\n",
      "Try using .loc[row_indexer,col_indexer] = value instead\n",
      "\n",
      "See the caveats in the documentation: https://pandas.pydata.org/pandas-docs/stable/user_guide/indexing.html#returning-a-view-versus-a-copy\n",
      "  self[k1] = value[k2]\n",
      "/home/clint/anaconda3/lib/python3.6/site-packages/ipykernel_launcher.py:13: SettingWithCopyWarning: \n",
      "A value is trying to be set on a copy of a slice from a DataFrame.\n",
      "Try using .loc[row_indexer,col_indexer] = value instead\n",
      "\n",
      "See the caveats in the documentation: https://pandas.pydata.org/pandas-docs/stable/user_guide/indexing.html#returning-a-view-versus-a-copy\n",
      "  del sys.path[0]\n",
      "/home/clint/anaconda3/lib/python3.6/site-packages/ipykernel_launcher.py:14: SettingWithCopyWarning: \n",
      "A value is trying to be set on a copy of a slice from a DataFrame.\n",
      "Try using .loc[row_indexer,col_indexer] = value instead\n",
      "\n",
      "See the caveats in the documentation: https://pandas.pydata.org/pandas-docs/stable/user_guide/indexing.html#returning-a-view-versus-a-copy\n",
      "  \n"
     ]
    }
   ],
   "source": [
    "keep_vds = list(set([6968,6957,6954,3477,4465,3478,4464,15801,15802,15799,4255,3576,3577,4255,4275,3556,15886,3555,\n",
    "       3553,3233,3234,3266,2793,3232,3266,3007,3227,3226,3271,3209,3421,4491,3420,4132,3419,3923,3417,\n",
    "       3441,3838,6176,4473,4521,4131,4130,3918,4518,4517,3174,3173,3916,4128,4127,3915,2941,3682,3681,\n",
    "       2942,4042,3398,4041,4045,3263,202,2980,2979,3652,3651,2999,2998,3634,3633,6296,4164,2914,2915,5597,\n",
    "       3890,4103,4102,3889,6957,6954,6968,46723,46707,16044,16020,16019,16043,46825,4643,4642,3808,3807,3778,\n",
    "       4674,4669,3782,2821,2822,3503,3504,3477,4465,3478,4464,15805,2809,2810,3609,2821,2822,3503,3504,\n",
    "       15891,15892,3444,3621,2798,2797,3622,2788,6173,6170,4136,3926,6954,4643,4642,3808,4177,4328,4329,4178,\n",
    "       4354,4210,5734,4211,13414,13415,13419,13416,13417,4317,3513,4316,13482,13508,13516,3522,3544,4287,4286,\n",
    "       3545,3551,3550,2907,4217,2906,6505,4815,4811,2901,2900,4223,4224,2896,2895,4357,2894,4359,2893,7138,\n",
    "       7150,7129,7185,7172,7070,7090,7079,3998,3386,3309,5882,5854,3653,3654,4028,3280,4024,4023,3285,3461,\n",
    "       4729,3462,4728,4510,3340,2948,3920,4815,4811,4847,4839,3778,4669,3778,4669,3776,4530,3498,2826,2827,\n",
    "       4407,2837,4406,2836,3954,3953,4058,4135,4134,3208,6184,6192,3157,6154,4905,4903,4643,4815,4811,3542,\n",
    "       4388,4389,2855,2856,5846,5942,5846,5918,5929,5917,5942,5908,5845,4394,4393,2852,5906,5905,5839,3778,\n",
    "       4674,3776,4530,4412,6068,6067,6070,6071,3491,2834,3490,2835,7150,7129,7138,7172,7070,4643,7090,6968,\n",
    "       6957,6954,\n",
    "       16073,16016,16040,16015,\n",
    "                ]))\n",
    "\n",
    "\n",
    "print(len(keep_vds))\n",
    "selected = info_df[info_df['ID2'].isin(keep_vds)]\n",
    "print(len(selected))\n",
    "\n",
    "selected['dis'] = selected['ID2'].astype(str)+' | '+selected['Direction']+' | '+selected['Roadway_Name']+' | '+selected['Roadway_Name']\n",
    "\n",
    "# --- plot all CCS stations --- #\n",
    "plotfromdf(selected, 'dis', color='green', size=6)"
   ]
  },
  {
   "cell_type": "code",
   "execution_count": null,
   "metadata": {},
   "outputs": [],
   "source": [
    "selected"
   ]
  },
  {
   "cell_type": "code",
   "execution_count": null,
   "metadata": {},
   "outputs": [],
   "source": [
    "CCS_df['fixed_idx'] = CCS_df['fixed_idx'].map(lambda x: int(x))\n",
    "\n",
    "keep_ccs = list(set([92,91,101,100,102,105,104,103,194,302,283,113,120,96,182,203,196,198,201,181,\n",
    "                     184,185,180,197,200,176,186,179,86,88,87,191,136,137,115,246,216,219,218,214,217,\n",
    "                     224,225,222,141,135,132,133,139,122,190,122,190,177,178,178,165,193,293,294,324,\n",
    "                     277,25,274,275,85,237,166,187,124,127,142,138,128,117,228,183,199,202,188,210,\n",
    "                     234,160,235,236,81,125,140,134,126,189,\n",
    "                ]))\n",
    "\n",
    "\n",
    "print(len(keep_ccs))\n",
    "selected = CCS_df[CCS_df['fixed_idx'].isin(keep_ccs)]\n",
    "print(len(selected))\n",
    "# --- POINT PLOT VDS --- #\n",
    "selected = CreatePointMap(selected, 'fixed_idx')\n",
    "# draw points on map\n",
    "GeneratePointMap(selected.loc[:,['fixed_idx']], selected.loc[:,['Latitude']],selected.loc[:,['Longitude']], 'purple', radius=8)"
   ]
  },
  {
   "cell_type": "code",
   "execution_count": 10,
   "metadata": {},
   "outputs": [],
   "source": [
    "m.save(f'./outputs/maps/{map_name}.html')"
   ]
  },
  {
   "cell_type": "code",
   "execution_count": null,
   "metadata": {},
   "outputs": [],
   "source": []
  },
  {
   "cell_type": "code",
   "execution_count": null,
   "metadata": {},
   "outputs": [],
   "source": []
  },
  {
   "cell_type": "code",
   "execution_count": null,
   "metadata": {},
   "outputs": [],
   "source": []
  },
  {
   "cell_type": "code",
   "execution_count": null,
   "metadata": {},
   "outputs": [],
   "source": []
  },
  {
   "cell_type": "code",
   "execution_count": null,
   "metadata": {},
   "outputs": [],
   "source": []
  },
  {
   "cell_type": "code",
   "execution_count": null,
   "metadata": {},
   "outputs": [],
   "source": []
  },
  {
   "cell_type": "code",
   "execution_count": null,
   "metadata": {},
   "outputs": [],
   "source": []
  },
  {
   "cell_type": "code",
   "execution_count": null,
   "metadata": {},
   "outputs": [],
   "source": []
  },
  {
   "cell_type": "code",
   "execution_count": null,
   "metadata": {},
   "outputs": [],
   "source": []
  },
  {
   "cell_type": "code",
   "execution_count": null,
   "metadata": {},
   "outputs": [],
   "source": []
  },
  {
   "cell_type": "code",
   "execution_count": null,
   "metadata": {},
   "outputs": [],
   "source": []
  },
  {
   "cell_type": "code",
   "execution_count": null,
   "metadata": {},
   "outputs": [],
   "source": []
  },
  {
   "cell_type": "code",
   "execution_count": null,
   "metadata": {},
   "outputs": [],
   "source": []
  },
  {
   "cell_type": "code",
   "execution_count": null,
   "metadata": {},
   "outputs": [],
   "source": [
    "def clean(df):\n",
    "    # clean data\n",
    "    for name in ['Longitude','Latitude']:\n",
    "        for stop in ['NaN',None,0,'False']:\n",
    "            df = df[df[name] != stop]\n",
    "        df[name] = pd.to_numeric(df[name], downcast=\"float\")\n",
    "    return df"
   ]
  },
  {
   "cell_type": "code",
   "execution_count": null,
   "metadata": {},
   "outputs": [],
   "source": [
    "import numpy as np\n",
    "# clean data\n",
    "VDS_df = clean(VDS_df)\n",
    "CCS_df = clean(CCS_df)\n",
    "\n",
    "# set vds locations\n",
    "from scipy import spatial\n",
    "locations = []\n",
    "for lat, long in zip(VDS_df['Latitude'],VDS_df['Longitude']):\n",
    "    locations = locations + [(lat, long)]   \n",
    "locations =  np.array(locations)\n",
    "tree = spatial.KDTree(locations)"
   ]
  },
  {
   "cell_type": "code",
   "execution_count": null,
   "metadata": {},
   "outputs": [],
   "source": [
    "# calc 10 nearest vds stations to a ccs station \n",
    "points, distance = [], []\n",
    "for lat, long in zip(CCS_df['Latitude'],CCS_df['Longitude']):\n",
    "    tree.query([(lat, long)])\n",
    "    results = tree.query([(lat, long)], k=10)\n",
    "    distance.append(results[0][0])\n",
    "    points.append(results[1][0]) \n",
    "CCS_df['Geo_dist'] = distance\n",
    "CCS_df['k_near'] = points\n",
    "\n",
    "# sub-select nearest stations to the ccs\n",
    "vds = []\n",
    "for k10 in CCS_df['k_near']:\n",
    "    vds = vds + list(k10)\n",
    "vds_k10_idx = list(set(vds))\n",
    "sub_vds = VDS_df[VDS_df.index.isin(vds_k10_idx)]\n",
    "\n",
    "sub_vds['full_name'] = sub_vds['ID2'].astype(str)+' '+sub_vds['Roadway_Name']+' '+sub_vds['Direction']"
   ]
  },
  {
   "cell_type": "code",
   "execution_count": null,
   "metadata": {},
   "outputs": [],
   "source": [
    "# --- POINT PLOT sub_VDS --- #\n",
    "sub_df = CreatePointMap(sub_vds, 'full_name')\n",
    "# draw points on map\n",
    "GeneratePointMap(sub_df.loc[:,['full_name']], sub_df.loc[:,['Latitude']],sub_df.loc[:,['Longitude']], 'green', radius=6)"
   ]
  },
  {
   "cell_type": "code",
   "execution_count": null,
   "metadata": {},
   "outputs": [],
   "source": []
  },
  {
   "cell_type": "code",
   "execution_count": null,
   "metadata": {},
   "outputs": [],
   "source": [
    "\n"
   ]
  },
  {
   "cell_type": "code",
   "execution_count": null,
   "metadata": {},
   "outputs": [],
   "source": []
  },
  {
   "cell_type": "code",
   "execution_count": null,
   "metadata": {},
   "outputs": [],
   "source": []
  },
  {
   "cell_type": "code",
   "execution_count": null,
   "metadata": {},
   "outputs": [],
   "source": []
  }
 ],
 "metadata": {
  "kernelspec": {
   "display_name": "Python 3",
   "language": "python",
   "name": "python3"
  },
  "language_info": {
   "codemirror_mode": {
    "name": "ipython",
    "version": 3
   },
   "file_extension": ".py",
   "mimetype": "text/x-python",
   "name": "python",
   "nbconvert_exporter": "python",
   "pygments_lexer": "ipython3",
   "version": "3.6.12"
  }
 },
 "nbformat": 4,
 "nbformat_minor": 2
}
