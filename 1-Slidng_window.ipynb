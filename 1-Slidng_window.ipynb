{
 "cells": [
  {
   "cell_type": "code",
   "execution_count": null,
   "id": "proper-bacon",
   "metadata": {},
   "outputs": [],
   "source": [
    "\"\"\"\n",
    "This files uses a window for prediction\n",
    "\"\"\"\n",
    "from sklearn.preprocessing import minmax_scale\n",
    "from sklearn.preprocessing import MinMaxScaler\n",
    "from keras.optimizers import SGD\n",
    "from keras.models import Sequential\n",
    "from keras.layers import Dense, LSTM, Dropout, GRU, SimpleRNN"
   ]
  },
  {
   "cell_type": "code",
   "execution_count": null,
   "id": "geological-princeton",
   "metadata": {},
   "outputs": [],
   "source": [
    "\"\"\"\n",
    "generating window data of 288 times stamps\n",
    "E.G. 288 points for taining as X and the y value (289th point) will be predicted\n",
    "\"\"\"\n",
    "def create_dl_train_test_split(test_data,train_data,interval=288):\n",
    "    \n",
    "    # create training and test data\n",
    "    X_train = []\n",
    "    y_train = []\n",
    "    for i in range(interval,len(train_data)):\n",
    "        X_train.append(train_data[i-interval:i])\n",
    "        y_train.append(train_data[i])\n",
    "\n",
    "    X_train, y_train = np.array(X_train), np.array(y_train)\n",
    "\n",
    "    # Reshaping X_train for efficient modelling\n",
    "    X_train = np.reshape(X_train, (X_train.shape[0],X_train.shape[1],1))\n",
    "\n",
    "\n",
    "    # Preparing X_test\n",
    "    X_test = []\n",
    "    y_test = []\n",
    "    for i in range(interval,len(test_data)):\n",
    "        X_test.append(test_data[i-interval:i])\n",
    "        y_test.append(test_data[i])\n",
    "        \n",
    "        \n",
    "    X_test, y_test = np.array(X_test), np.array(y_test)\n",
    "    X_test = np.reshape(X_test, (X_test.shape[0],X_test.shape[1],1))\n",
    "    \n",
    "\n",
    "    return X_train, y_train, X_test, y_test\n",
    "\n",
    "\n",
    "def create_single_layer_small_rnn_model(X_train, y_train, X_test):\n",
    "    '''\n",
    "    create single layer rnn model trained on X_train and y_train\n",
    "    and make predictions on the X_test data\n",
    "    '''\n",
    "    # create a model\n",
    "    model = Sequential()\n",
    "    model.add(SimpleRNN(6))\n",
    "    model.add(Dense(1))\n",
    "\n",
    "    model.compile(optimizer='rmsprop', loss='mean_squared_error')\n",
    "\n",
    "    # fit the RNN model\n",
    "    model.fit(X_train, y_train, epochs=100, batch_size=600)\n",
    "\n",
    "    # Finalizing predictions\n",
    "    scaled_preds = model.predict(X_test)\n",
    "#     test_preds = sc.inverse_transform(scaled_preds)\n",
    "\n",
    "    return model, scaled_preds"
   ]
  },
  {
   "cell_type": "code",
   "execution_count": null,
   "id": "italic-modem",
   "metadata": {},
   "outputs": [],
   "source": [
    "X_single_arr = minmax_scale(np.concatenate(X, axis=0))\n",
    "train_data = X_single_arr[46944:]\n",
    "test_data = X_single_arr[:46944]# half\n",
    "\n",
    "X_train2, y_train2, X_test2, y_test2 = create_dl_train_test_split(test_data,train_data,interval=288)\n",
    "model, test_preds = create_single_layer_small_rnn_model(X_train2, y_train2, X_test2)"
   ]
  }
 ],
 "metadata": {
  "kernelspec": {
   "display_name": "Python 3",
   "language": "python",
   "name": "python3"
  },
  "language_info": {
   "codemirror_mode": {
    "name": "ipython",
    "version": 3
   },
   "file_extension": ".py",
   "mimetype": "text/x-python",
   "name": "python",
   "nbconvert_exporter": "python",
   "pygments_lexer": "ipython3",
   "version": "3.6.12"
  }
 },
 "nbformat": 4,
 "nbformat_minor": 5
}
