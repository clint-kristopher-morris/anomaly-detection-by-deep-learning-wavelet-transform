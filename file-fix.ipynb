{
 "cells": [
  {
   "cell_type": "code",
   "execution_count": 4,
   "id": "naked-sharing",
   "metadata": {},
   "outputs": [],
   "source": [
    "# this codes fixes the format to the files there\n",
    "# was an error in scraping causing the last file\n",
    "# from previous station being saved as the first of the next\n",
    "\n",
    "# should start at 2760\n",
    "import os\n",
    "import shutil\n",
    "\n",
    "path2Errored_dir = './data/2760-2999-method1'\n",
    "stations = [int(x) for x in os.listdir(path2Errored_dir)]\n",
    "stations.sort()\n",
    "\n",
    "for indx, dir_st in enumerate(stations):\n",
    "    files = os.listdir(f'{path2Errored_dir}/{dir_st}')\n",
    "    for file in files:\n",
    "        if file == f'{dir_st}_0.csv':\n",
    "            last_station = stations[indx-1]\n",
    "            new_file = f'{last_station}_37.csv'\n",
    "            shutil.move(f'{path2Errored_dir}/{dir_st}/{file}', f'{path2Errored_dir}/{last_station}/{new_file}')"
   ]
  },
  {
   "cell_type": "code",
   "execution_count": null,
   "id": "closed-sauce",
   "metadata": {},
   "outputs": [],
   "source": []
  },
  {
   "cell_type": "code",
   "execution_count": null,
   "id": "false-american",
   "metadata": {},
   "outputs": [],
   "source": []
  },
  {
   "cell_type": "code",
   "execution_count": null,
   "id": "stretch-scale",
   "metadata": {},
   "outputs": [],
   "source": []
  },
  {
   "cell_type": "code",
   "execution_count": null,
   "id": "democratic-entrance",
   "metadata": {},
   "outputs": [],
   "source": []
  }
 ],
 "metadata": {
  "kernelspec": {
   "display_name": "Python 3",
   "language": "python",
   "name": "python3"
  },
  "language_info": {
   "codemirror_mode": {
    "name": "ipython",
    "version": 3
   },
   "file_extension": ".py",
   "mimetype": "text/x-python",
   "name": "python",
   "nbconvert_exporter": "python",
   "pygments_lexer": "ipython3",
   "version": "3.6.12"
  }
 },
 "nbformat": 4,
 "nbformat_minor": 5
}
