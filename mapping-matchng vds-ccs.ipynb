{
 "cells": [
  {
   "cell_type": "code",
   "execution_count": 1,
   "metadata": {},
   "outputs": [],
   "source": [
    "map_name = 'k_near_map'\n",
    "# --- Generate Map --- #\n",
    "import folium\n",
    "\n",
    "center = [33.748997, -84.387985]\n",
    "m = folium.Map(center, zoom_start=10)\n",
    "m.save(f'./outputs/maps/{map_name}.html')\n",
    "\n",
    "m = folium.Map(\n",
    "    location=[33.748997, -84.387985],\n",
    "    tiles='Stamen Toner',\n",
    "    zoom_start=10)"
   ]
  },
  {
   "cell_type": "code",
   "execution_count": 2,
   "metadata": {},
   "outputs": [],
   "source": [
    "import pandas as pd\n",
    "import geopandas\n",
    "from shapely.geometry import shape,mapping, Point, Polygon, MultiPolygon\n",
    "import matplotlib.pyplot as plt\n",
    "# import geoplot\n",
    "from project_tools import load_obj, interact, save_obj\n",
    "\n",
    "def CreatePointMap(df, Point_name):\n",
    "    # cleaning\n",
    "    df[['Latitude','Longitude']] = df[['Latitude','Longitude']].apply(pd.to_numeric, errors='coerce')\n",
    "    # --- Converts df type to GeoDataFrame --- #\n",
    "    pointDF = df\n",
    "    df['coordinates'] = df[['Latitude', 'Longitude']].values.tolist()\n",
    "    df['coordinates'] = df['coordinates'].apply(Point)\n",
    "    df = geopandas.GeoDataFrame(df, geometry='coordinates')\n",
    "    df = df.dropna(subset=[Point_name,'Latitude', 'Longitude','coordinates'])\n",
    "    return df\n",
    "\n",
    "def GeneratePointMap(Names , Latitudes, Longitudes, color, radius):\n",
    "    for i, Name in enumerate(Names.iterrows()):\n",
    "        folium.CircleMarker(\n",
    "            location=[Latitudes.iloc[i,0],Longitudes.iloc[i,0]],\n",
    "            tooltip = str(Names.iloc[i,0]),\n",
    "            radius= radius,\n",
    "            popup=str(Names.iloc[i,0]),\n",
    "            color=color,\n",
    "            fill=True,\n",
    "            fill_color=color \n",
    "        ).add_to(m)\n",
    "        \n",
    "def covertname(x):\n",
    "    try:\n",
    "        x=inv_matcher[x]\n",
    "    except KeyError:\n",
    "        try:\n",
    "            x=map_[x]\n",
    "        except KeyError:\n",
    "            x=0\n",
    "    return int(x)\n",
    "\n",
    "def plotfromdf(df, name, color='blue', size=3):\n",
    "    df = CreatePointMap(df, name)\n",
    "    GeneratePointMap(df.loc[:,[name]], df.loc[:,['Latitude']],df.loc[:,['Longitude']], color, radius=size)"
   ]
  },
  {
   "cell_type": "code",
   "execution_count": 3,
   "metadata": {},
   "outputs": [],
   "source": [
    "# map_ is a dict converting names to station numbers\n",
    "map_=server_info = load_obj('map')\n",
    "del map_['would_not_load']\n",
    "del map_['loaded_not_a_name']\n",
    "map_df = pd.DataFrame(map_, index=['vds_station_number']).T\n",
    "# info is a dict with extended station info eg lat long\n",
    "# mostly all formatting\n",
    "info=server_info = load_obj('info')\n",
    "info_df = pd.DataFrame(info).T\n",
    "names = pd.read_csv('support//inventory_xpath.csv',usecols = [0]).names # col names\n",
    "info_df.columns = names\n",
    "info_df['names'] = info_df.index\n",
    "info_df.index = pd.RangeIndex(len(info_df.index))\n",
    "\n",
    "vds_info = pd.read_csv('data/vds/location_data/vds_info_total.csv')\n",
    "matcher = dict(zip(list(vds_info['value']),list(vds_info['description'])))\n",
    "\n",
    "\n",
    "# remove if not GDOT\n",
    "delete = []\n",
    "onlyGDOT = True\n",
    "for key, val in matcher.items():\n",
    "    if onlyGDOT:\n",
    "        if val[0] != 'G':\n",
    "            delete.append(key)\n",
    "        else:\n",
    "            matcher[key] = val.split(':')[0]\n",
    "    else:\n",
    "        matcher[key] = val.split(':')[0]\n",
    "for key in delete:\n",
    "    del matcher[key]\n",
    "inv_matcher = {v:k for k, v in matcher.items()}\n",
    "#convert ID name to number format\n",
    "info_df['ID2'] = info_df['ID'].map(covertname)\n",
    "# only the ones being scrapped\n",
    "info_df = info_df[info_df['ID2']!=0]\n",
    "\n",
    "# --- plot all GDOT VDS stations --- #\n",
    "info_df['ID3'] = info_df['ID2'].astype(str)+' | '+info_df['Direction']+' | '+info_df['Roadway_Name']\n",
    "plotfromdf(info_df, 'ID3', color='blue', size=3)"
   ]
  },
  {
   "cell_type": "code",
   "execution_count": 4,
   "metadata": {},
   "outputs": [],
   "source": [
    "CCS_info = pd.read_csv(\"./data/vds/location_data/ccs_info.csv\")\n",
    "CCS_info['fixed_idx'] = pd.RangeIndex(len(CCS_info.index))\n",
    "\n",
    "# --- plot all CCS stations --- #\n",
    "CCS_info['fixed_idx_v2'] = CCS_info['fixed_idx'].astype(str)+' | '+CCS_info['description']\n",
    "plotfromdf(CCS_info, 'fixed_idx_v2', color='red', size=4)"
   ]
  },
  {
   "cell_type": "code",
   "execution_count": 5,
   "metadata": {},
   "outputs": [
    {
     "name": "stdout",
     "output_type": "stream",
     "text": [
      "240\n",
      "239\n"
     ]
    },
    {
     "name": "stderr",
     "output_type": "stream",
     "text": [
      "/home/clint/anaconda3/lib/python3.6/site-packages/pandas/core/frame.py:3065: SettingWithCopyWarning: \n",
      "A value is trying to be set on a copy of a slice from a DataFrame.\n",
      "Try using .loc[row_indexer,col_indexer] = value instead\n",
      "\n",
      "See the caveats in the documentation: https://pandas.pydata.org/pandas-docs/stable/user_guide/indexing.html#returning-a-view-versus-a-copy\n",
      "  self[k1] = value[k2]\n",
      "/home/clint/anaconda3/lib/python3.6/site-packages/ipykernel_launcher.py:13: SettingWithCopyWarning: \n",
      "A value is trying to be set on a copy of a slice from a DataFrame.\n",
      "Try using .loc[row_indexer,col_indexer] = value instead\n",
      "\n",
      "See the caveats in the documentation: https://pandas.pydata.org/pandas-docs/stable/user_guide/indexing.html#returning-a-view-versus-a-copy\n",
      "  del sys.path[0]\n",
      "/home/clint/anaconda3/lib/python3.6/site-packages/ipykernel_launcher.py:14: SettingWithCopyWarning: \n",
      "A value is trying to be set on a copy of a slice from a DataFrame.\n",
      "Try using .loc[row_indexer,col_indexer] = value instead\n",
      "\n",
      "See the caveats in the documentation: https://pandas.pydata.org/pandas-docs/stable/user_guide/indexing.html#returning-a-view-versus-a-copy\n",
      "  \n"
     ]
    }
   ],
   "source": [
    "keep_vds = load_obj('keep_vds')\n",
    "print(len(keep_vds))\n",
    "selected = info_df[info_df['ID2'].isin(keep_vds)]\n",
    "print(len(selected))\n",
    "# selected['dis'] = selected['ID2'].astype(str)+' | '+selected['Direction']+' | '+selected['Roadway_Name']\n",
    "# --- plot all CCS stations --- #\n",
    "plotfromdf(selected, 'ID3', color='green', size=6)"
   ]
  },
  {
   "cell_type": "code",
   "execution_count": 6,
   "metadata": {},
   "outputs": [],
   "source": [
    "m.save(f'./outputs/maps/{map_name}.html')"
   ]
  },
  {
   "cell_type": "code",
   "execution_count": 20,
   "metadata": {},
   "outputs": [
    {
     "name": "stderr",
     "output_type": "stream",
     "text": [
      "/home/clint/anaconda3/lib/python3.6/site-packages/pandas/core/frame.py:3065: SettingWithCopyWarning: \n",
      "A value is trying to be set on a copy of a slice from a DataFrame.\n",
      "Try using .loc[row_indexer,col_indexer] = value instead\n",
      "\n",
      "See the caveats in the documentation: https://pandas.pydata.org/pandas-docs/stable/user_guide/indexing.html#returning-a-view-versus-a-copy\n",
      "  self[k1] = value[k2]\n",
      "/home/clint/anaconda3/lib/python3.6/site-packages/ipykernel_launcher.py:13: SettingWithCopyWarning: \n",
      "A value is trying to be set on a copy of a slice from a DataFrame.\n",
      "Try using .loc[row_indexer,col_indexer] = value instead\n",
      "\n",
      "See the caveats in the documentation: https://pandas.pydata.org/pandas-docs/stable/user_guide/indexing.html#returning-a-view-versus-a-copy\n",
      "  del sys.path[0]\n",
      "/home/clint/anaconda3/lib/python3.6/site-packages/ipykernel_launcher.py:14: SettingWithCopyWarning: \n",
      "A value is trying to be set on a copy of a slice from a DataFrame.\n",
      "Try using .loc[row_indexer,col_indexer] = value instead\n",
      "\n",
      "See the caveats in the documentation: https://pandas.pydata.org/pandas-docs/stable/user_guide/indexing.html#returning-a-view-versus-a-copy\n",
      "  \n"
     ]
    }
   ],
   "source": [
    "matched = load_obj('ccs_vds_matched')\n",
    "selected_CCS = CCS_info[CCS_info['fixed_idx'].isin(matched.keys())]\n",
    "plotfromdf(selected_CCS, 'fixed_idx', color='purple', size=10)"
   ]
  },
  {
   "cell_type": "code",
   "execution_count": 10,
   "metadata": {},
   "outputs": [],
   "source": [
    "m.save(f'./outputs/maps/{map_name}.html')"
   ]
  },
  {
   "cell_type": "code",
   "execution_count": 35,
   "metadata": {},
   "outputs": [],
   "source": [
    "# reformat CCS names\n",
    "def mapCCSnames(name):\n",
    "    name = name[5:]\n",
    "    if '#' in name:\n",
    "        name = name.replace('#','')\n",
    "    return f'{name[:3]}-{name[3:]}'\n",
    "\n",
    "CCS_info['standard_name'] = CCS_info['name'].map(mapCCSnames)\n",
    "newmap = dict(zip(CCS_info['fixed_idx'].tolist(),CCS_info['standard_name'].tolist()))\n",
    "formatted = {}\n",
    "for k in matched.keys():\n",
    "    formatted[newmap[k]]=matched[k]"
   ]
  },
  {
   "cell_type": "code",
   "execution_count": 39,
   "metadata": {},
   "outputs": [],
   "source": [
    "vds_direction = dict(zip(info_df['ID2'].tolist(),info_df['Direction'].tolist())) # maps vds name to direction (N/W/E/S)"
   ]
  },
  {
   "cell_type": "code",
   "execution_count": 40,
   "metadata": {},
   "outputs": [],
   "source": [
    "# --- Matched CCS to VDS --- #\n",
    "# save_obj(formatted, 'VDS_CCS_MATCHED!')\n",
    "# save_obj(vds_direction, 'vds_direction')"
   ]
  },
  {
   "cell_type": "code",
   "execution_count": null,
   "metadata": {},
   "outputs": [],
   "source": []
  },
  {
   "cell_type": "code",
   "execution_count": null,
   "metadata": {},
   "outputs": [],
   "source": []
  }
 ],
 "metadata": {
  "kernelspec": {
   "display_name": "Python 3",
   "language": "python",
   "name": "python3"
  },
  "language_info": {
   "codemirror_mode": {
    "name": "ipython",
    "version": 3
   },
   "file_extension": ".py",
   "mimetype": "text/x-python",
   "name": "python",
   "nbconvert_exporter": "python",
   "pygments_lexer": "ipython3",
   "version": "3.6.12"
  }
 },
 "nbformat": 4,
 "nbformat_minor": 2
}
